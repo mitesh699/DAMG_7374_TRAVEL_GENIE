{
  "cells": [
    {
      "cell_type": "code",
      "execution_count": null,
      "metadata": {
        "colab": {
          "base_uri": "https://localhost:8080/"
        },
        "id": "BOmXcvwV3Tr3",
        "outputId": "f8483219-38ef-473c-d0c8-19e5e6ff6905"
      },
      "outputs": [],
      "source": [
        "!pip install snowflake-connector-python langchain openai pinecone-client python-dotenv langchain-openai langchain-pinecone"
      ]
    },
    {
      "cell_type": "code",
      "execution_count": null,
      "metadata": {
        "id": "Hge8IxYi2PNP"
      },
      "outputs": [],
      "source": [
        "# Import required libraries\n",
        "from dotenv import load_dotenv\n",
        "load_dotenv()\n",
        "import os\n",
        "import pandas as pd\n",
        "import snowflake.connector\n",
        "from langchain_openai import OpenAIEmbeddings\n",
        "from pinecone import Pinecone, ServerlessSpec\n",
        "from langchain_pinecone import PineconeVectorStore"
      ]
    },
    {
      "cell_type": "code",
      "execution_count": 3,
      "metadata": {
        "id": "FdYNw69c2Y2I"
      },
      "outputs": [],
      "source": [
        "# Set up Snowflake connection\n",
        "PASSWORD = os.getenv(\"SNOWFLAKE_PASSWORD\")\n",
        "\n",
        "connection = snowflake.connector.connect(\n",
        "    user='BOA',\n",
        "    password=PASSWORD,\n",
        "    account='URB63596',\n",
        "    warehouse='ANIMAL_TASK_WH',\n",
        "    database='TRAVEL_GENIE',\n",
        "    schema='TRANSFORMED_DATA_TRANSFORMED'\n",
        ")"
      ]
    },
    {
      "cell_type": "code",
      "execution_count": null,
      "metadata": {
        "id": "3IOsobbW24yu"
      },
      "outputs": [],
      "source": [
        "# Create cursor and execute query\n",
        "cur = connection.cursor()\n",
        "cur.execute(\"SELECT * FROM RESTAURANTS\")\n",
        "result = cur.fetchall()\n",
        "\n",
        "# Convert to DataFrame\n",
        "df_restaurants = pd.DataFrame(result, columns=[col[0] for col in cur.description])\n",
        "\n",
        "# Remove duplicates if any exist\n",
        "df_restaurants_cleaned = df_restaurants.drop_duplicates(subset=['RESTAURANT_ID'], keep='first')\n",
        "\n",
        "# Print the shape before and after removing duplicates\n",
        "print(f\"Original shape: {df_restaurants.shape}\")\n",
        "print(f\"Shape after removing duplicates: {df_restaurants_cleaned.shape}\")"
      ]
    },
    {
      "cell_type": "code",
      "execution_count": null,
      "metadata": {
        "id": "_AtTAfy52-Kx"
      },
      "outputs": [],
      "source": [
        "# Fetch restaurant reviews\n",
        "cur.execute(\"SELECT * FROM RESTAURANT_REVIEWS\")\n",
        "result = cur.fetchall()\n",
        "\n",
        "# Convert to DataFrame\n",
        "df_restaurant_reviews = pd.DataFrame(result, columns=[col[0] for col in cur.description])\n",
        "\n",
        "# Remove duplicates from reviews if any exist\n",
        "df_reviews_cleaned = df_restaurant_reviews.drop_duplicates(subset=['REVIEW_ID'], keep='first')\n",
        "\n",
        "# Print the shape before and after removing duplicates\n",
        "print(f\"Original reviews shape: {df_restaurant_reviews.shape}\")\n",
        "print(f\"Shape after removing duplicates: {df_reviews_cleaned.shape}\")"
      ]
    },
    {
      "cell_type": "code",
      "execution_count": null,
      "metadata": {
        "id": "JWCWEgjf3AtG"
      },
      "outputs": [],
      "source": [
        "# Convert IDs to string type for consistent matching\n",
        "df_restaurants_cleaned['RESTAURANT_ID'] = df_restaurants_cleaned['RESTAURANT_ID'].astype(str)\n",
        "df_reviews_cleaned['RESTAURANT_ID'] = df_reviews_cleaned['RESTAURANT_ID'].astype(str)\n",
        "\n",
        "# Merge restaurants and reviews data\n",
        "df_merged = pd.merge(df_restaurants_cleaned, df_reviews_cleaned, on='RESTAURANT_ID')\n",
        "\n",
        "# Print the shape of the merged dataset\n",
        "print(f\"Merged dataset shape: {df_merged.shape}\")"
      ]
    },
    {
      "cell_type": "code",
      "execution_count": null,
      "metadata": {},
      "outputs": [],
      "source": [
        "df_merged[[\"CITY_x\",\"CITY_y\"]].head()"
      ]
    },
    {
      "cell_type": "code",
      "execution_count": null,
      "metadata": {},
      "outputs": [],
      "source": [
        "df_merged[[\"RESTAURANT_NAME_x\",\"RESTAURANT_NAME_y\"]].head()"
      ]
    },
    {
      "cell_type": "code",
      "execution_count": null,
      "metadata": {},
      "outputs": [],
      "source": [
        "df_merged[[\"LONGITUDE_x\",\"LONGITUDE_y\"]].head()"
      ]
    },
    {
      "cell_type": "code",
      "execution_count": null,
      "metadata": {},
      "outputs": [],
      "source": [
        "df_merged[\"CUISINES\"]"
      ]
    },
    {
      "cell_type": "code",
      "execution_count": null,
      "metadata": {},
      "outputs": [],
      "source": [
        "df_merged[[\"STATE_x\",\"STATE_y\"]].head()"
      ]
    },
    {
      "cell_type": "code",
      "execution_count": null,
      "metadata": {},
      "outputs": [],
      "source": [
        "df_merged[[\"RATING_x\",\"RATING_y\"]].head()"
      ]
    },
    {
      "cell_type": "code",
      "execution_count": null,
      "metadata": {},
      "outputs": [],
      "source": [
        "df_merged['RESTAURANT_TIER']"
      ]
    },
    {
      "cell_type": "code",
      "execution_count": null,
      "metadata": {},
      "outputs": [],
      "source": [
        "df_merged.columns"
      ]
    },
    {
      "cell_type": "code",
      "execution_count": 7,
      "metadata": {
        "id": "FMFmHt433F1H"
      },
      "outputs": [],
      "source": [
        "# Initialize Pinecone\n",
        "pinecone_api_key = os.getenv(\"PINECONE_API_KEY\")\n",
        "pc = Pinecone(api_key=pinecone_api_key)\n",
        "\n",
        "# Set up index parameters\n",
        "index_name = \"exp1\"\n",
        "\n",
        "# Create index if it doesn't exist\n",
        "existing_indexes = [index_info[\"name\"] for index_info in pc.list_indexes()]\n",
        "\n",
        "if index_name not in existing_indexes:\n",
        "    pc.create_index(\n",
        "        name=index_name,\n",
        "        dimension=3072,  # Using the same dimension as your previous example\n",
        "        metric=\"cosine\",\n",
        "        spec=ServerlessSpec(cloud=\"aws\", region=\"us-east-1\")\n",
        "    )\n",
        "\n",
        "index = pc.Index(index_name)"
      ]
    },
    {
      "cell_type": "code",
      "execution_count": null,
      "metadata": {},
      "outputs": [],
      "source": [
        "df_merged.columns"
      ]
    },
    {
      "cell_type": "code",
      "execution_count": null,
      "metadata": {
        "id": "vCAPzuN33GmC"
      },
      "outputs": [],
      "source": [
        "# Initialize OpenAI embeddings\n",
        "embeddings = OpenAIEmbeddings(model=\"text-embedding-ada-002\")\n",
        "\n",
        "# Create vector store\n",
        "vector_store = PineconeVectorStore(index=index, embedding=embeddings)\n",
        "\n",
        "# Iterate through the merged DataFrame and create embeddings\n",
        "for i, row in df_merged.iterrows():\n",
        "    # Combine relevant text fields - adjust these based on your columns\n",
        "    text_to_embed = f\"{row['RESTAURANT_NAME_x']} {row['CUISINES']} {row['REVIEW_TEXT']}\"\n",
        "\n",
        "    # Generate embedding\n",
        "    vector = embeddings.embed_documents([text_to_embed])\n",
        "    if len(vector) > 0:\n",
        "        vector = vector[0]\n",
        "\n",
        "    # Prepare metadata\n",
        "    metadata = {\n",
        "        \"RESTAURANT_NAME\": row['RESTAURANT_NAME_x'],\n",
        "        \"CITY\": row['CITY_y'],\n",
        "        \"STATE\": row['STATE_x'],\n",
        "        \"RATING\": row['RATING_x'],\n",
        "        \"PRICE_CATEGORY\": row['PRICE_CATEGORY'],\n",
        "        \"CUISINES\": row['CUISINES'],\n",
        "        \"LATITUDE\": row['LATITUDE_x'],\n",
        "        \"LONGITUDE\": row['LONGITUDE_x'],\n",
        "        \"RESTAURANT_TIER\": row['RESTAURANT_TIER'],\n",
        "        \"REVIEW_DATE\": row['REVIEW_DATE'],\n",
        "        \"REVIEW_TEXT\": row['REVIEW_TEXT'],\n",
        "        \"REVIEW_TITLE\": row['REVIEW_TITLE'],\n",
        "        \"TRIP_TYPE\": row['TRIP_TYPE'],\n",
        "        \"DIETARY_RESTRICTIONS\": row['DIETARY_RESTRICTIONS'],\n",
        "    }\n",
        "\n",
        "    # Upsert into Pinecone\n",
        "    index.upsert(\n",
        "        vectors=[{\n",
        "            \"id\": f\"{row['RESTAURANT_ID']}_{i}\",\n",
        "            \"values\": vector,\n",
        "            \"metadata\": metadata\n",
        "        }],\n",
        "        namespace=\"restaurants\"\n",
        "    )\n",
        "\n",
        "    # Print progress every 100 records\n",
        "    if i % 100 == 0:\n",
        "        print(f\"Processed {i} records\")"
      ]
    }
  ],
  "metadata": {
    "colab": {
      "provenance": []
    },
    "kernelspec": {
      "display_name": ".venv",
      "language": "python",
      "name": "python3"
    },
    "language_info": {
      "codemirror_mode": {
        "name": "ipython",
        "version": 3
      },
      "file_extension": ".py",
      "mimetype": "text/x-python",
      "name": "python",
      "nbconvert_exporter": "python",
      "pygments_lexer": "ipython3",
      "version": "3.12.8"
    }
  },
  "nbformat": 4,
  "nbformat_minor": 0
}
